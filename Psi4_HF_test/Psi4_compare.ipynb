{
 "cells": [
  {
   "attachments": {},
   "cell_type": "markdown",
   "metadata": {},
   "source": [
    "# Psi4 Notebook for educational purposes"
   ]
  },
  {
   "attachments": {},
   "cell_type": "markdown",
   "metadata": {},
   "source": [
    "\n",
    "This notebook is used to compare the results of Psi4 with the results with my own implementation of the Hartree-Fock method. It helps me to check if my implementation is correct. "
   ]
  },
  {
   "attachments": {},
   "cell_type": "markdown",
   "metadata": {},
   "source": [
    "Connect to pc with `Psi4` installation and host jupyter server.\n",
    "\n",
    "`ssh -L 8080:localhost:8080 username@pcname`\n",
    "\n",
    "`jupyter notebook --no-browser --port=8080`"
   ]
  },
  {
   "cell_type": "code",
   "execution_count": 7,
   "metadata": {},
   "outputs": [
    {
     "name": "stdout",
     "output_type": "stream",
     "text": [
      "eri_Psi4_test.dat  \u001b[0m\u001b[01;32mh2o_test.py\u001b[0m*    \u001b[01;32mh2o_testV2.py\u001b[0m*        psi4_setup_h2.py\n",
      "h2o_test.log       h2o_testV2.log  ipython_h2o_setup.py  timer.dat\n",
      "h2o_test.out       h2o_testV2.out  output.dat\n"
     ]
    }
   ],
   "source": [
    "ls"
   ]
  },
  {
   "attachments": {},
   "cell_type": "markdown",
   "metadata": {},
   "source": [
    "My setup, that is run:"
   ]
  },
  {
   "cell_type": "code",
   "execution_count": 13,
   "metadata": {},
   "outputs": [
    {
     "name": "stdout",
     "output_type": "stream",
     "text": [
      "import psi4\n",
      "import numpy as np \n",
      "\n",
      "np.set_printoptions(precision=5, linewidth=100, suppress=True)\n",
      "psi4.set_memory(\"4 GB\")\n",
      "psi4.core.set_output_file('output.dat', False)\n",
      "numpy_memory = 4\n",
      "\n",
      "mol = psi4.geometry(\"\"\"\n",
      "0 1\n",
      "H 0.0 0.0 0.0\n",
      "H 0.0 0.0 1.4\n",
      "units bohr\n",
      "\"\"\")\n",
      "\n",
      "psi4.set_options({\"save_jk\": \"true\", \"guess\": \"CORE\", \"basis\": \"sto-3g\", \"DIIS\": \"false\", \"SCF_INITIAL_ACCELERATOR\": \"None\", \"CFOUR_SCF_MAXCYC\": \"500\", \"e_convergence\": 1e-8})\n",
      "\n",
      "wfn = psi4.core.Wavefunction.build(mol, psi4.core.get_global_option(\"BASIS\"))\n",
      "mints = psi4.core.MintsHelper(wfn.basisset())\n",
      "\n",
      "S = np.asarray(mints.ao_overlap())\n",
      "T = np.asarray(mints.ao_kinetic())\n",
      "V = np.asarray(mints.ao_potential())\n",
      "ERI = np.asarray(mints.ao_eri())\n",
      "\n",
      "no_basis_funcs: int = S.shape[0]\n",
      "\n"
     ]
    }
   ],
   "source": [
    "cat psi4_setup_h2.py"
   ]
  },
  {
   "cell_type": "code",
   "execution_count": 12,
   "metadata": {},
   "outputs": [],
   "source": [
    "%run psi4_setup_h2.py"
   ]
  },
  {
   "cell_type": "code",
   "execution_count": null,
   "metadata": {},
   "outputs": [],
   "source": []
  },
  {
   "cell_type": "code",
   "execution_count": null,
   "metadata": {},
   "outputs": [],
   "source": []
  }
 ],
 "metadata": {
  "kernelspec": {
   "display_name": "Python 3 (ipykernel)",
   "language": "python",
   "name": "python3"
  },
  "language_info": {
   "codemirror_mode": {
    "name": "ipython",
    "version": 3
   },
   "file_extension": ".py",
   "mimetype": "text/x-python",
   "name": "python",
   "nbconvert_exporter": "python",
   "pygments_lexer": "ipython3",
   "version": "3.10.8"
  },
  "orig_nbformat": 4
 },
 "nbformat": 4,
 "nbformat_minor": 2
}
