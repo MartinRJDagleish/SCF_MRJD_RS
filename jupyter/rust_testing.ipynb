{
 "cells": [
  {
   "attachments": {},
   "cell_type": "markdown",
   "metadata": {},
   "source": [
    "# Tests with the EVCXR kernel for Rust"
   ]
  },
  {
   "cell_type": "code",
   "execution_count": 34,
   "metadata": {
    "vscode": {
     "languageId": "rust"
    }
   },
   "outputs": [
    {
     "data": {
      "text/html": [
       "<table>\n",
       "<tr><td>:clear</td><td>Clear all state, keeping compilation cache</td></tr>\n",
       "<tr><td>:dep</td><td>Add dependency. e.g. :dep regex = \"1.0\"</td></tr>\n",
       "<tr><td>:efmt</td><td>Set the formatter for errors returned by ?</td></tr>\n",
       "<tr><td>:explain</td><td>Print explanation of last error</td></tr>\n",
       "<tr><td>:fmt</td><td>Set output formatter (default: {:?})</td></tr>\n",
       "<tr><td>:help</td><td>Print command help</td></tr>\n",
       "<tr><td>:internal_debug</td><td>Toggle various internal debugging code</td></tr>\n",
       "<tr><td>:last_compile_dir</td><td>Print the directory in which we last compiled</td></tr>\n",
       "<tr><td>:last_error_json</td><td>Print the last compilation error as JSON (for debugging)</td></tr>\n",
       "<tr><td>:linker</td><td>Set/print linker. Supported: system, lld, mold</td></tr>\n",
       "<tr><td>:load_config</td><td>Reloads startup configuration files. Accepts optional flag `--quiet` to suppress logging.</td></tr>\n",
       "<tr><td>:offline</td><td>Set offline mode when invoking cargo</td></tr>\n",
       "<tr><td>:opt</td><td>Set optimization level (0/1/2)</td></tr>\n",
       "<tr><td>:preserve_vars_on_panic</td><td>Try to keep vars on panic (0/1)</td></tr>\n",
       "<tr><td>:quit</td><td>Quit evaluation and exit</td></tr>\n",
       "<tr><td>:sccache</td><td>Set whether to use sccache (0/1).</td></tr>\n",
       "<tr><td>:time_passes</td><td>Toggle printing of rustc pass times (requires nightly)</td></tr>\n",
       "<tr><td>:timing</td><td>Toggle printing of how long evaluations take</td></tr>\n",
       "<tr><td>:toolchain</td><td>Set which toolchain to use (e.g. nightly)</td></tr>\n",
       "<tr><td>:vars</td><td>List bound variables and their types</td></tr>\n",
       "<tr><td>:version</td><td>Print Evcxr version</td></tr>\n",
       "</table>\n"
      ],
      "text/plain": [
       ":clear            Clear all state, keeping compilation cache\n",
       ":dep              Add dependency. e.g. :dep regex = \"1.0\"\n",
       ":efmt             Set the formatter for errors returned by ?\n",
       ":explain          Print explanation of last error\n",
       ":fmt              Set output formatter (default: {:?})\n",
       ":help             Print command help\n",
       ":internal_debug   Toggle various internal debugging code\n",
       ":last_compile_dir Print the directory in which we last compiled\n",
       ":last_error_json  Print the last compilation error as JSON (for debugging)\n",
       ":linker           Set/print linker. Supported: system, lld, mold\n",
       ":load_config      Reloads startup configuration files. Accepts optional flag `--quiet` to suppress logging.\n",
       ":offline          Set offline mode when invoking cargo\n",
       ":opt              Set optimization level (0/1/2)\n",
       ":preserve_vars_on_panic Try to keep vars on panic (0/1)\n",
       ":quit             Quit evaluation and exit\n",
       ":sccache          Set whether to use sccache (0/1).\n",
       ":time_passes      Toggle printing of rustc pass times (requires nightly)\n",
       ":timing           Toggle printing of how long evaluations take\n",
       ":toolchain        Set which toolchain to use (e.g. nightly)\n",
       ":vars             List bound variables and their types\n",
       ":version          Print Evcxr version\n"
      ]
     },
     "execution_count": 34,
     "metadata": {},
     "output_type": "execute_result"
    }
   ],
   "source": [
    ":help"
   ]
  },
  {
   "cell_type": "code",
   "execution_count": 35,
   "metadata": {
    "vscode": {
     "languageId": "rust"
    }
   },
   "outputs": [],
   "source": [
    ":dep showata = { version = \"0.3.2\", features = [\"show_ndarray\"]}\n",
    ":dep ndarray = {version = \"0.15.6\", features = [\"rayon\"]}\n",
    ":dep ndarray-linalg = {version = \"0.16.0\", features = [\"openblas-system\"]}\n",
    "// :dep rayon = \"1.7.0\""
   ]
  },
  {
   "cell_type": "code",
   "execution_count": 38,
   "metadata": {
    "vscode": {
     "languageId": "rust"
    }
   },
   "outputs": [],
   "source": [
    "use showata::Showable;\n",
    "// use ndarray::{prelude::*,Zip};\n",
    "use ndarray::parallel::prelude::*;\n",
    "// use ndarray::parallel::prelude::\n",
    "// use ndarray::parallel::impl_par_methods::Zip::*;\n",
    "use std::sync::Mutex;"
   ]
  },
  {
   "cell_type": "code",
   "execution_count": 39,
   "metadata": {
    "vscode": {
     "languageId": "rust"
    }
   },
   "outputs": [
    {
     "name": "stdout",
     "output_type": "stream",
     "text": [
      "0,0: 1\n",
      "1,0: 3\n",
      "0,1: 2\n",
      "1,1: 4\n"
     ]
    }
   ],
   "source": [
    "let a = array![[1., 2.], [3., 4.]];\n",
    "// a\n",
    "\n",
    "Zip::indexed(&a).into_par_iter().for_each(|((idx1,idx2), x)| {\n",
    "    println!(\"{},{}: {}\", idx1,idx2, x);\n",
    "});"
   ]
  },
  {
   "cell_type": "code",
   "execution_count": 62,
   "metadata": {
    "vscode": {
     "languageId": "rust"
    }
   },
   "outputs": [],
   "source": [
    "let mut dummy_matr = Array2::<f64>::zeros((10,10));\n",
    "let mut S_matr = Array2::<f64>::zeros((10,10));\n",
    "let vec1 = vec![1.,2.,3.,4.,5.,6.,7.,8.,9.,10.];\n",
    "let vec2 = vec![1.,2.,3.,4.,5.,6.,7.,8.,9.,10.];\n",
    "\n",
    "Zip::indexed(&dummy_matr).par_map_assign_into(&mut S_matr, |(i,j), x| {\n",
    "    if i == j {\n",
    "       1. \n",
    "    } else {\n",
    "        (i+j) as f64\n",
    "    }\n",
    "});\n",
    "\n",
    "// S_matr.show();\n",
    "// Zip::from(&vec1).and(&vec2).par_map_assign_into(&mut S_matr, |x, y| {\n",
    "//     if x == y {\n",
    "//         1.\n",
    "//     } else {\n",
    "//         0.\n",
    "//     }\n",
    "// });\n",
    "\n",
    "// Zip::indexed(&mut S_matr).par_map_assign_into(&mut S_matr, |(i,j), x| {\n",
    "//     if i == j {\n",
    "//        1. \n",
    "//     } else {\n",
    "//         (i+j) as f64\n",
    "//     }\n",
    "// });\n",
    "\n",
    "// Zip::par_map_assign_into(&mut S_matr, &a, |x, y| {\n",
    "//     *x = *y;\n",
    "// });"
   ]
  },
  {
   "cell_type": "code",
   "execution_count": 63,
   "metadata": {
    "vscode": {
     "languageId": "rust"
    }
   },
   "outputs": [
    {
     "data": {
      "text/plain": [
       "[[1.0, 1.0, 2.0, 3.0, 4.0, 5.0, 6.0, 7.0, 8.0, 9.0],\n",
       " [1.0, 1.0, 3.0, 4.0, 5.0, 6.0, 7.0, 8.0, 9.0, 10.0],\n",
       " [2.0, 3.0, 1.0, 5.0, 6.0, 7.0, 8.0, 9.0, 10.0, 11.0],\n",
       " [3.0, 4.0, 5.0, 1.0, 7.0, 8.0, 9.0, 10.0, 11.0, 12.0],\n",
       " [4.0, 5.0, 6.0, 7.0, 1.0, 9.0, 10.0, 11.0, 12.0, 13.0],\n",
       " [5.0, 6.0, 7.0, 8.0, 9.0, 1.0, 11.0, 12.0, 13.0, 14.0],\n",
       " [6.0, 7.0, 8.0, 9.0, 10.0, 11.0, 1.0, 13.0, 14.0, 15.0],\n",
       " [7.0, 8.0, 9.0, 10.0, 11.0, 12.0, 13.0, 1.0, 15.0, 16.0],\n",
       " [8.0, 9.0, 10.0, 11.0, 12.0, 13.0, 14.0, 15.0, 1.0, 17.0],\n",
       " [9.0, 10.0, 11.0, 12.0, 13.0, 14.0, 15.0, 16.0, 17.0, 1.0]], shape=[10, 10], strides=[10, 1], layout=Cc (0x5), const ndim=2"
      ]
     },
     "execution_count": 63,
     "metadata": {},
     "output_type": "execute_result"
    }
   ],
   "source": [
    "S_matr"
   ]
  },
  {
   "cell_type": "code",
   "execution_count": null,
   "metadata": {
    "vscode": {
     "languageId": "rust"
    }
   },
   "outputs": [
    {
     "name": "stderr",
     "output_type": "stream",
     "text": [
      "While processing instruction `Ok(\"LOAD_AND_RUN /tmp/.tmpfm4H0t/target/x86_64-unknown-linux-gnu/debug/deps/libcode_10.so run_user_code_7\")`, got error: Message(\"/tmp/.tmpfm4H0t/target/x86_64-unknown-linux-gnu/debug/deps/libcode_10.so: undefined symbol: cblas_ddot\")\n"
     ]
    },
    {
     "ename": "Error",
     "evalue": "Subprocess terminated with status: exit status: 99",
     "output_type": "error",
     "traceback": [
      "Subprocess terminated with status: exit status: 99"
     ]
    }
   ],
   "source": [
    "let C_matr_AO_basis = Array2::<f64>::zeros((10,10));\n",
    "let D_matr_mutex = Mutex::new(Array2::<f64>::zeros((10,10)));\n",
    "\n",
    "Zip::indexed(C_matr_AO_basis.axis_iter(Axis(0))).par_for_each(|mu, row1| {\n",
    "    Zip::indexed(C_matr_AO_basis.outer_iter()).par_for_each(|nu, row2| {\n",
    "        let mut d = D_matr_mutex.lock().unwrap();\n",
    "        let slice1 = row1.slice(s![..5]);\n",
    "        let slice2 = row2.slice(s![..5]);\n",
    "        d[(mu, nu)] = slice1.dot(&slice2);\n",
    "    });\n",
    "});\n",
    "\n",
    "let D_matr = D_matr_mutex.into_inner().unwrap();\n",
    "D_matr"
   ]
  },
  {
   "cell_type": "code",
   "execution_count": null,
   "metadata": {
    "vscode": {
     "languageId": "rust"
    }
   },
   "outputs": [],
   "source": []
  }
 ],
 "metadata": {
  "kernelspec": {
   "display_name": "Rust",
   "language": "rust",
   "name": "rust"
  },
  "language_info": {
   "codemirror_mode": "rust",
   "file_extension": ".rs",
   "mimetype": "text/rust",
   "name": "Rust",
   "pygment_lexer": "rust",
   "version": ""
  },
  "orig_nbformat": 4
 },
 "nbformat": 4,
 "nbformat_minor": 2
}
